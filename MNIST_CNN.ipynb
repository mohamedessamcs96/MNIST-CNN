{
  "metadata": {
    "kernelspec": {
      "language": "python",
      "display_name": "Python 3",
      "name": "python3"
    },
    "language_info": {
      "name": "python",
      "version": "3.10.12",
      "mimetype": "text/x-python",
      "codemirror_mode": {
        "name": "ipython",
        "version": 3
      },
      "pygments_lexer": "ipython3",
      "nbconvert_exporter": "python",
      "file_extension": ".py"
    },
    "kaggle": {
      "accelerator": "gpu",
      "dataSources": [
        {
          "sourceId": 3004,
          "databundleVersionId": 861823,
          "sourceType": "competition"
        }
      ],
      "dockerImageVersionId": 30627,
      "isInternetEnabled": true,
      "language": "python",
      "sourceType": "notebook",
      "isGpuEnabled": true
    },
    "colab": {
      "provenance": []
    }
  },
  "nbformat_minor": 0,
  "nbformat": 4,
  "cells": [
    {
      "cell_type": "markdown",
      "source": [
        "# 1. Import Library & Data\n"
      ],
      "metadata": {
        "id": "_88Gr3ZaIVYB"
      }
    },
    {
      "cell_type": "code",
      "source": [
        "import numpy as np\n",
        "import pandas as pd\n",
        "import matplotlib.pyplot as plt\n",
        "import seaborn as sns\n",
        "\n",
        "import random\n",
        "\n",
        "import tensorflow as tf\n",
        "from tensorflow import keras\n",
        "from tensorflow.keras import layers, models\n",
        "\n",
        "from sklearn.model_selection import train_test_split\n",
        "from sklearn.metrics import confusion_matrix"
      ],
      "metadata": {
        "execution": {
          "iopub.status.busy": "2023-12-23T16:49:46.114762Z",
          "iopub.execute_input": "2023-12-23T16:49:46.115057Z",
          "iopub.status.idle": "2023-12-23T16:49:58.384256Z",
          "shell.execute_reply.started": "2023-12-23T16:49:46.115030Z",
          "shell.execute_reply": "2023-12-23T16:49:58.383430Z"
        },
        "trusted": true,
        "id": "gH5q-AiXIVYG",
        "outputId": "beb41a6c-5fbb-4efc-f82a-15d07af6c114"
      },
      "execution_count": null,
      "outputs": [
        {
          "name": "stderr",
          "text": "/opt/conda/lib/python3.10/site-packages/scipy/__init__.py:146: UserWarning: A NumPy version >=1.16.5 and <1.23.0 is required for this version of SciPy (detected version 1.24.3\n  warnings.warn(f\"A NumPy version >={np_minversion} and <{np_maxversion}\"\n",
          "output_type": "stream"
        }
      ]
    },
    {
      "cell_type": "code",
      "source": [
        "train_df = pd.read_csv('/kaggle/input/digit-recognizer/train.csv')\n",
        "test_df = pd.read_csv('/kaggle/input/digit-recognizer/test.csv')\n",
        "train_df.shape, test_df.shape"
      ],
      "metadata": {
        "execution": {
          "iopub.status.busy": "2023-12-23T16:49:58.386303Z",
          "iopub.execute_input": "2023-12-23T16:49:58.387314Z",
          "iopub.status.idle": "2023-12-23T16:50:04.116335Z",
          "shell.execute_reply.started": "2023-12-23T16:49:58.387279Z",
          "shell.execute_reply": "2023-12-23T16:50:04.115370Z"
        },
        "trusted": true,
        "id": "rHdNDhCSIVYK",
        "outputId": "9caf1cb7-0001-4cdd-e493-9e415efe4efb"
      },
      "execution_count": null,
      "outputs": [
        {
          "execution_count": 2,
          "output_type": "execute_result",
          "data": {
            "text/plain": "((42000, 785), (28000, 784))"
          },
          "metadata": {}
        }
      ]
    },
    {
      "cell_type": "markdown",
      "source": [
        "# 2. Overview of the Data"
      ],
      "metadata": {
        "id": "WqzyKu7CIVYL"
      }
    },
    {
      "cell_type": "code",
      "source": [
        "train_df.head()"
      ],
      "metadata": {
        "execution": {
          "iopub.status.busy": "2023-12-23T16:50:04.117333Z",
          "iopub.execute_input": "2023-12-23T16:50:04.117594Z",
          "iopub.status.idle": "2023-12-23T16:50:04.140978Z",
          "shell.execute_reply.started": "2023-12-23T16:50:04.117569Z",
          "shell.execute_reply": "2023-12-23T16:50:04.140097Z"
        },
        "trusted": true,
        "id": "SmCzFrjHIVYM",
        "outputId": "47e84a23-5f94-419b-98d7-77e0de3e23e2"
      },
      "execution_count": null,
      "outputs": [
        {
          "execution_count": 3,
          "output_type": "execute_result",
          "data": {
            "text/plain": "   label  pixel0  pixel1  pixel2  pixel3  pixel4  pixel5  pixel6  pixel7  \\\n0      1       0       0       0       0       0       0       0       0   \n1      0       0       0       0       0       0       0       0       0   \n2      1       0       0       0       0       0       0       0       0   \n3      4       0       0       0       0       0       0       0       0   \n4      0       0       0       0       0       0       0       0       0   \n\n   pixel8  ...  pixel774  pixel775  pixel776  pixel777  pixel778  pixel779  \\\n0       0  ...         0         0         0         0         0         0   \n1       0  ...         0         0         0         0         0         0   \n2       0  ...         0         0         0         0         0         0   \n3       0  ...         0         0         0         0         0         0   \n4       0  ...         0         0         0         0         0         0   \n\n   pixel780  pixel781  pixel782  pixel783  \n0         0         0         0         0  \n1         0         0         0         0  \n2         0         0         0         0  \n3         0         0         0         0  \n4         0         0         0         0  \n\n[5 rows x 785 columns]",
            "text/html": "<div>\n<style scoped>\n    .dataframe tbody tr th:only-of-type {\n        vertical-align: middle;\n    }\n\n    .dataframe tbody tr th {\n        vertical-align: top;\n    }\n\n    .dataframe thead th {\n        text-align: right;\n    }\n</style>\n<table border=\"1\" class=\"dataframe\">\n  <thead>\n    <tr style=\"text-align: right;\">\n      <th></th>\n      <th>label</th>\n      <th>pixel0</th>\n      <th>pixel1</th>\n      <th>pixel2</th>\n      <th>pixel3</th>\n      <th>pixel4</th>\n      <th>pixel5</th>\n      <th>pixel6</th>\n      <th>pixel7</th>\n      <th>pixel8</th>\n      <th>...</th>\n      <th>pixel774</th>\n      <th>pixel775</th>\n      <th>pixel776</th>\n      <th>pixel777</th>\n      <th>pixel778</th>\n      <th>pixel779</th>\n      <th>pixel780</th>\n      <th>pixel781</th>\n      <th>pixel782</th>\n      <th>pixel783</th>\n    </tr>\n  </thead>\n  <tbody>\n    <tr>\n      <th>0</th>\n      <td>1</td>\n      <td>0</td>\n      <td>0</td>\n      <td>0</td>\n      <td>0</td>\n      <td>0</td>\n      <td>0</td>\n      <td>0</td>\n      <td>0</td>\n      <td>0</td>\n      <td>...</td>\n      <td>0</td>\n      <td>0</td>\n      <td>0</td>\n      <td>0</td>\n      <td>0</td>\n      <td>0</td>\n      <td>0</td>\n      <td>0</td>\n      <td>0</td>\n      <td>0</td>\n    </tr>\n    <tr>\n      <th>1</th>\n      <td>0</td>\n      <td>0</td>\n      <td>0</td>\n      <td>0</td>\n      <td>0</td>\n      <td>0</td>\n      <td>0</td>\n      <td>0</td>\n      <td>0</td>\n      <td>0</td>\n      <td>...</td>\n      <td>0</td>\n      <td>0</td>\n      <td>0</td>\n      <td>0</td>\n      <td>0</td>\n      <td>0</td>\n      <td>0</td>\n      <td>0</td>\n      <td>0</td>\n      <td>0</td>\n    </tr>\n    <tr>\n      <th>2</th>\n      <td>1</td>\n      <td>0</td>\n      <td>0</td>\n      <td>0</td>\n      <td>0</td>\n      <td>0</td>\n      <td>0</td>\n      <td>0</td>\n      <td>0</td>\n      <td>0</td>\n      <td>...</td>\n      <td>0</td>\n      <td>0</td>\n      <td>0</td>\n      <td>0</td>\n      <td>0</td>\n      <td>0</td>\n      <td>0</td>\n      <td>0</td>\n      <td>0</td>\n      <td>0</td>\n    </tr>\n    <tr>\n      <th>3</th>\n      <td>4</td>\n      <td>0</td>\n      <td>0</td>\n      <td>0</td>\n      <td>0</td>\n      <td>0</td>\n      <td>0</td>\n      <td>0</td>\n      <td>0</td>\n      <td>0</td>\n      <td>...</td>\n      <td>0</td>\n      <td>0</td>\n      <td>0</td>\n      <td>0</td>\n      <td>0</td>\n      <td>0</td>\n      <td>0</td>\n      <td>0</td>\n      <td>0</td>\n      <td>0</td>\n    </tr>\n    <tr>\n      <th>4</th>\n      <td>0</td>\n      <td>0</td>\n      <td>0</td>\n      <td>0</td>\n      <td>0</td>\n      <td>0</td>\n      <td>0</td>\n      <td>0</td>\n      <td>0</td>\n      <td>0</td>\n      <td>...</td>\n      <td>0</td>\n      <td>0</td>\n      <td>0</td>\n      <td>0</td>\n      <td>0</td>\n      <td>0</td>\n      <td>0</td>\n      <td>0</td>\n      <td>0</td>\n      <td>0</td>\n    </tr>\n  </tbody>\n</table>\n<p>5 rows × 785 columns</p>\n</div>"
          },
          "metadata": {}
        }
      ]
    },
    {
      "cell_type": "code",
      "source": [
        "test_df.head()"
      ],
      "metadata": {
        "execution": {
          "iopub.status.busy": "2023-12-23T16:50:04.142952Z",
          "iopub.execute_input": "2023-12-23T16:50:04.143283Z",
          "iopub.status.idle": "2023-12-23T16:50:04.158436Z",
          "shell.execute_reply.started": "2023-12-23T16:50:04.143257Z",
          "shell.execute_reply": "2023-12-23T16:50:04.157532Z"
        },
        "trusted": true,
        "id": "NAGU3_TLIVYN",
        "outputId": "5466a173-d965-4fed-e28e-6a4bd3a87b42"
      },
      "execution_count": null,
      "outputs": [
        {
          "execution_count": 4,
          "output_type": "execute_result",
          "data": {
            "text/plain": "   pixel0  pixel1  pixel2  pixel3  pixel4  pixel5  pixel6  pixel7  pixel8  \\\n0       0       0       0       0       0       0       0       0       0   \n1       0       0       0       0       0       0       0       0       0   \n2       0       0       0       0       0       0       0       0       0   \n3       0       0       0       0       0       0       0       0       0   \n4       0       0       0       0       0       0       0       0       0   \n\n   pixel9  ...  pixel774  pixel775  pixel776  pixel777  pixel778  pixel779  \\\n0       0  ...         0         0         0         0         0         0   \n1       0  ...         0         0         0         0         0         0   \n2       0  ...         0         0         0         0         0         0   \n3       0  ...         0         0         0         0         0         0   \n4       0  ...         0         0         0         0         0         0   \n\n   pixel780  pixel781  pixel782  pixel783  \n0         0         0         0         0  \n1         0         0         0         0  \n2         0         0         0         0  \n3         0         0         0         0  \n4         0         0         0         0  \n\n[5 rows x 784 columns]",
            "text/html": "<div>\n<style scoped>\n    .dataframe tbody tr th:only-of-type {\n        vertical-align: middle;\n    }\n\n    .dataframe tbody tr th {\n        vertical-align: top;\n    }\n\n    .dataframe thead th {\n        text-align: right;\n    }\n</style>\n<table border=\"1\" class=\"dataframe\">\n  <thead>\n    <tr style=\"text-align: right;\">\n      <th></th>\n      <th>pixel0</th>\n      <th>pixel1</th>\n      <th>pixel2</th>\n      <th>pixel3</th>\n      <th>pixel4</th>\n      <th>pixel5</th>\n      <th>pixel6</th>\n      <th>pixel7</th>\n      <th>pixel8</th>\n      <th>pixel9</th>\n      <th>...</th>\n      <th>pixel774</th>\n      <th>pixel775</th>\n      <th>pixel776</th>\n      <th>pixel777</th>\n      <th>pixel778</th>\n      <th>pixel779</th>\n      <th>pixel780</th>\n      <th>pixel781</th>\n      <th>pixel782</th>\n      <th>pixel783</th>\n    </tr>\n  </thead>\n  <tbody>\n    <tr>\n      <th>0</th>\n      <td>0</td>\n      <td>0</td>\n      <td>0</td>\n      <td>0</td>\n      <td>0</td>\n      <td>0</td>\n      <td>0</td>\n      <td>0</td>\n      <td>0</td>\n      <td>0</td>\n      <td>...</td>\n      <td>0</td>\n      <td>0</td>\n      <td>0</td>\n      <td>0</td>\n      <td>0</td>\n      <td>0</td>\n      <td>0</td>\n      <td>0</td>\n      <td>0</td>\n      <td>0</td>\n    </tr>\n    <tr>\n      <th>1</th>\n      <td>0</td>\n      <td>0</td>\n      <td>0</td>\n      <td>0</td>\n      <td>0</td>\n      <td>0</td>\n      <td>0</td>\n      <td>0</td>\n      <td>0</td>\n      <td>0</td>\n      <td>...</td>\n      <td>0</td>\n      <td>0</td>\n      <td>0</td>\n      <td>0</td>\n      <td>0</td>\n      <td>0</td>\n      <td>0</td>\n      <td>0</td>\n      <td>0</td>\n      <td>0</td>\n    </tr>\n    <tr>\n      <th>2</th>\n      <td>0</td>\n      <td>0</td>\n      <td>0</td>\n      <td>0</td>\n      <td>0</td>\n      <td>0</td>\n      <td>0</td>\n      <td>0</td>\n      <td>0</td>\n      <td>0</td>\n      <td>...</td>\n      <td>0</td>\n      <td>0</td>\n      <td>0</td>\n      <td>0</td>\n      <td>0</td>\n      <td>0</td>\n      <td>0</td>\n      <td>0</td>\n      <td>0</td>\n      <td>0</td>\n    </tr>\n    <tr>\n      <th>3</th>\n      <td>0</td>\n      <td>0</td>\n      <td>0</td>\n      <td>0</td>\n      <td>0</td>\n      <td>0</td>\n      <td>0</td>\n      <td>0</td>\n      <td>0</td>\n      <td>0</td>\n      <td>...</td>\n      <td>0</td>\n      <td>0</td>\n      <td>0</td>\n      <td>0</td>\n      <td>0</td>\n      <td>0</td>\n      <td>0</td>\n      <td>0</td>\n      <td>0</td>\n      <td>0</td>\n    </tr>\n    <tr>\n      <th>4</th>\n      <td>0</td>\n      <td>0</td>\n      <td>0</td>\n      <td>0</td>\n      <td>0</td>\n      <td>0</td>\n      <td>0</td>\n      <td>0</td>\n      <td>0</td>\n      <td>0</td>\n      <td>...</td>\n      <td>0</td>\n      <td>0</td>\n      <td>0</td>\n      <td>0</td>\n      <td>0</td>\n      <td>0</td>\n      <td>0</td>\n      <td>0</td>\n      <td>0</td>\n      <td>0</td>\n    </tr>\n  </tbody>\n</table>\n<p>5 rows × 784 columns</p>\n</div>"
          },
          "metadata": {}
        }
      ]
    },
    {
      "cell_type": "code",
      "source": [
        "train_df.info()"
      ],
      "metadata": {
        "execution": {
          "iopub.status.busy": "2023-12-23T16:50:04.159569Z",
          "iopub.execute_input": "2023-12-23T16:50:04.159845Z",
          "iopub.status.idle": "2023-12-23T16:50:04.214290Z",
          "shell.execute_reply.started": "2023-12-23T16:50:04.159821Z",
          "shell.execute_reply": "2023-12-23T16:50:04.213405Z"
        },
        "trusted": true,
        "id": "jlaQ779mIVYN",
        "outputId": "cea26f2f-b403-4abb-c301-d67bafebca6e"
      },
      "execution_count": null,
      "outputs": [
        {
          "name": "stdout",
          "text": "<class 'pandas.core.frame.DataFrame'>\nRangeIndex: 42000 entries, 0 to 41999\nColumns: 785 entries, label to pixel783\ndtypes: int64(785)\nmemory usage: 251.5 MB\n",
          "output_type": "stream"
        }
      ]
    },
    {
      "cell_type": "code",
      "source": [
        "test_df.info()"
      ],
      "metadata": {
        "execution": {
          "iopub.status.busy": "2023-12-23T16:50:04.215453Z",
          "iopub.execute_input": "2023-12-23T16:50:04.215722Z",
          "iopub.status.idle": "2023-12-23T16:50:04.256086Z",
          "shell.execute_reply.started": "2023-12-23T16:50:04.215698Z",
          "shell.execute_reply": "2023-12-23T16:50:04.255134Z"
        },
        "trusted": true,
        "id": "Rd_g5lfCIVYO",
        "outputId": "753d63ad-dfeb-4e93-c7b4-09818bd8ce72"
      },
      "execution_count": null,
      "outputs": [
        {
          "name": "stdout",
          "text": "<class 'pandas.core.frame.DataFrame'>\nRangeIndex: 28000 entries, 0 to 27999\nColumns: 784 entries, pixel0 to pixel783\ndtypes: int64(784)\nmemory usage: 167.5 MB\n",
          "output_type": "stream"
        }
      ]
    },
    {
      "cell_type": "markdown",
      "source": [
        "### Generate Random Number to Show Image"
      ],
      "metadata": {
        "id": "fwyoks1yIVYP"
      }
    },
    {
      "cell_type": "code",
      "source": [
        "number = random.randint(0, 42000)\n",
        "number"
      ],
      "metadata": {
        "execution": {
          "iopub.status.busy": "2023-12-23T16:50:04.257263Z",
          "iopub.execute_input": "2023-12-23T16:50:04.257572Z",
          "iopub.status.idle": "2023-12-23T16:50:04.263529Z",
          "shell.execute_reply.started": "2023-12-23T16:50:04.257547Z",
          "shell.execute_reply": "2023-12-23T16:50:04.262597Z"
        },
        "trusted": true,
        "id": "OClo4vVBIVYQ",
        "outputId": "dbb327ff-014a-4390-c330-3315ee58db64"
      },
      "execution_count": null,
      "outputs": [
        {
          "execution_count": 7,
          "output_type": "execute_result",
          "data": {
            "text/plain": "38085"
          },
          "metadata": {}
        }
      ]
    },
    {
      "cell_type": "code",
      "source": [
        "plt.figure(figsize=(1, 1))\n",
        "plt.imshow(train_df.iloc[number, 1:].values.reshape(28, 28), cmap=plt.cm.binary)"
      ],
      "metadata": {
        "execution": {
          "iopub.status.busy": "2023-12-23T16:50:04.265009Z",
          "iopub.execute_input": "2023-12-23T16:50:04.265341Z",
          "iopub.status.idle": "2023-12-23T16:50:04.474917Z",
          "shell.execute_reply.started": "2023-12-23T16:50:04.265310Z",
          "shell.execute_reply": "2023-12-23T16:50:04.473989Z"
        },
        "trusted": true,
        "id": "4yZs8wDGIVYR",
        "outputId": "cf003fa8-51a2-44f4-ce37-dce5018ada8c"
      },
      "execution_count": null,
      "outputs": [
        {
          "execution_count": 8,
          "output_type": "execute_result",
          "data": {
            "text/plain": "<matplotlib.image.AxesImage at 0x7c7841e56d70>"
          },
          "metadata": {}
        },
        {
          "output_type": "display_data",
          "data": {
            "text/plain": "<Figure size 100x100 with 1 Axes>",
            "image/png": "[encoded data removed]"
          },
          "metadata": {}
        }
      ]
    },
    {
      "cell_type": "code",
      "source": [
        "# code to show 10 images\n",
        "plt.figure(figsize=(12, 12))\n",
        "for i in range(10):\n",
        "    plt.subplot(10, 10, i+1)\n",
        "    plt.xticks([])\n",
        "    plt.yticks([])\n",
        "    plt.imshow(train_df.iloc[i, 1:].values.reshape(28, 28), cmap=plt.cm.binary)\n",
        "    plt.xlabel(train_df.iloc[i, 0])"
      ],
      "metadata": {
        "execution": {
          "iopub.status.busy": "2023-12-23T16:50:04.476224Z",
          "iopub.execute_input": "2023-12-23T16:50:04.476903Z",
          "iopub.status.idle": "2023-12-23T16:50:05.042371Z",
          "shell.execute_reply.started": "2023-12-23T16:50:04.476867Z",
          "shell.execute_reply": "2023-12-23T16:50:05.041524Z"
        },
        "trusted": true,
        "id": "txTfuIPoIVYR",
        "outputId": "e653c95e-1680-4ba4-c570-4bce9e6060fa"
      },
      "execution_count": null,
      "outputs": [
        {
          "output_type": "display_data",
          "data": {
            "text/plain": "<Figure size 1200x1200 with 10 Axes>",
            "image/png": "[encoded data removed]"
          },
          "metadata": {}
        }
      ]
    },
    {
      "cell_type": "markdown",
      "source": [
        "###  Scaling and Label Separation"
      ],
      "metadata": {
        "id": "80RyIXqYIVYT"
      }
    },
    {
      "cell_type": "code",
      "source": [
        "# converting number 0 to 256 to 0 to 1\n",
        "x_train_df = train_df.iloc[:, 1:].values / 256\n",
        "x_test_df = test_df.iloc[:, :].values / 256"
      ],
      "metadata": {
        "execution": {
          "iopub.status.busy": "2023-12-23T16:50:05.043543Z",
          "iopub.execute_input": "2023-12-23T16:50:05.043858Z",
          "iopub.status.idle": "2023-12-23T16:50:05.215267Z",
          "shell.execute_reply.started": "2023-12-23T16:50:05.043831Z",
          "shell.execute_reply": "2023-12-23T16:50:05.214394Z"
        },
        "trusted": true,
        "id": "ljA3fMuXIVYT"
      },
      "execution_count": null,
      "outputs": []
    },
    {
      "cell_type": "code",
      "source": [
        "y_train_df = train_df.iloc[:, 0].values\n",
        "y_train_df[number]"
      ],
      "metadata": {
        "execution": {
          "iopub.status.busy": "2023-12-23T16:50:05.218835Z",
          "iopub.execute_input": "2023-12-23T16:50:05.219125Z",
          "iopub.status.idle": "2023-12-23T16:50:05.225573Z",
          "shell.execute_reply.started": "2023-12-23T16:50:05.219100Z",
          "shell.execute_reply": "2023-12-23T16:50:05.224640Z"
        },
        "trusted": true,
        "id": "rSwsY_PIIVYU",
        "outputId": "0f05276d-47e1-46bc-e14e-ade273525d2a"
      },
      "execution_count": null,
      "outputs": [
        {
          "execution_count": 11,
          "output_type": "execute_result",
          "data": {
            "text/plain": "9"
          },
          "metadata": {}
        }
      ]
    },
    {
      "cell_type": "code",
      "source": [
        "x_train_df.shape, x_test_df.shape"
      ],
      "metadata": {
        "execution": {
          "iopub.status.busy": "2023-12-23T16:50:05.226796Z",
          "iopub.execute_input": "2023-12-23T16:50:05.227145Z",
          "iopub.status.idle": "2023-12-23T16:50:05.236232Z",
          "shell.execute_reply.started": "2023-12-23T16:50:05.227113Z",
          "shell.execute_reply": "2023-12-23T16:50:05.235420Z"
        },
        "trusted": true,
        "id": "P4Pq6LLuIVYV",
        "outputId": "750fce27-20ce-4c56-cd25-d13396552663"
      },
      "execution_count": null,
      "outputs": [
        {
          "execution_count": 12,
          "output_type": "execute_result",
          "data": {
            "text/plain": "((42000, 784), (28000, 784))"
          },
          "metadata": {}
        }
      ]
    },
    {
      "cell_type": "markdown",
      "source": [
        "# 3. Train and Validation Split"
      ],
      "metadata": {
        "id": "NFTriijaIVYW"
      }
    },
    {
      "cell_type": "code",
      "source": [
        "x_train, x_test, y_train, y_test = train_test_split(x_train_df, y_train_df, test_size=0.2, random_state=42)"
      ],
      "metadata": {
        "execution": {
          "iopub.status.busy": "2023-12-23T16:50:05.237591Z",
          "iopub.execute_input": "2023-12-23T16:50:05.237827Z",
          "iopub.status.idle": "2023-12-23T16:50:05.612475Z",
          "shell.execute_reply.started": "2023-12-23T16:50:05.237806Z",
          "shell.execute_reply": "2023-12-23T16:50:05.611669Z"
        },
        "trusted": true,
        "id": "RsrBDDG8IVYW"
      },
      "execution_count": null,
      "outputs": []
    },
    {
      "cell_type": "markdown",
      "source": [
        "# 5. CNN"
      ],
      "metadata": {
        "id": "s3_As0cqIVYX"
      }
    },
    {
      "cell_type": "code",
      "source": [
        "cnn_model = models.Sequential([\n",
        "    layers.Conv2D(filters=32, kernel_size=(3, 3),\n",
        "                  activation='relu', input_shape=(28, 28, 1)),\n",
        "    layers.MaxPooling2D((2, 2)),\n",
        "    layers.Conv2D(filters=64, kernel_size=(3, 3), activation='relu'),\n",
        "    layers.MaxPooling2D((2, 2)),\n",
        "    layers.Flatten(),\n",
        "    layers.Dense(64, activation='relu'),\n",
        "    layers.Dense(32, activation='relu'),\n",
        "    layers.Dense(16, activation='relu'),\n",
        "    layers.Dense(10, activation='softmax')\n",
        "])"
      ],
      "metadata": {
        "execution": {
          "iopub.status.busy": "2023-12-23T16:50:05.613533Z",
          "iopub.execute_input": "2023-12-23T16:50:05.613818Z",
          "iopub.status.idle": "2023-12-23T16:50:08.190097Z",
          "shell.execute_reply.started": "2023-12-23T16:50:05.613793Z",
          "shell.execute_reply": "2023-12-23T16:50:08.189342Z"
        },
        "trusted": true,
        "id": "bynnxpe_IVYX"
      },
      "execution_count": null,
      "outputs": []
    },
    {
      "cell_type": "code",
      "source": [
        "cnn_model.compile(optimizer='adam',\n",
        "                  loss='sparse_categorical_crossentropy', metrics=['accuracy'])"
      ],
      "metadata": {
        "execution": {
          "iopub.status.busy": "2023-12-23T16:50:08.191138Z",
          "iopub.execute_input": "2023-12-23T16:50:08.191430Z",
          "iopub.status.idle": "2023-12-23T16:50:08.207929Z",
          "shell.execute_reply.started": "2023-12-23T16:50:08.191405Z",
          "shell.execute_reply": "2023-12-23T16:50:08.207252Z"
        },
        "trusted": true,
        "id": "r8I1bqcxIVYY"
      },
      "execution_count": null,
      "outputs": []
    },
    {
      "cell_type": "code",
      "source": [
        "history = cnn_model.fit(x_train.reshape(-1, 28, 28, 1), y_train, epochs=10,\n",
        "              batch_size=32, validation_data=(x_test.reshape(-1, 28, 28, 1), y_test))"
      ],
      "metadata": {
        "execution": {
          "iopub.status.busy": "2023-12-23T16:50:08.208874Z",
          "iopub.execute_input": "2023-12-23T16:50:08.209107Z",
          "iopub.status.idle": "2023-12-23T16:50:56.713070Z",
          "shell.execute_reply.started": "2023-12-23T16:50:08.209085Z",
          "shell.execute_reply": "2023-12-23T16:50:56.712281Z"
        },
        "trusted": true,
        "id": "SfAqqZfkIVYZ",
        "outputId": "c1372ea5-96dd-4cd8-e380-9614081b7c66"
      },
      "execution_count": null,
      "outputs": [
        {
          "name": "stdout",
          "text": "Epoch 1/10\n1050/1050 [==============================] - 12s 4ms/step - loss: 0.2873 - accuracy: 0.9097 - val_loss: 0.1123 - val_accuracy: 0.9642\nEpoch 2/10\n1050/1050 [==============================] - 4s 4ms/step - loss: 0.0740 - accuracy: 0.9770 - val_loss: 0.0727 - val_accuracy: 0.9788\nEpoch 3/10\n1050/1050 [==============================] - 4s 4ms/step - loss: 0.0526 - accuracy: 0.9839 - val_loss: 0.0528 - val_accuracy: 0.9825\nEpoch 4/10\n1050/1050 [==============================] - 4s 4ms/step - loss: 0.0390 - accuracy: 0.9881 - val_loss: 0.0454 - val_accuracy: 0.9868\nEpoch 5/10\n1050/1050 [==============================] - 4s 4ms/step - loss: 0.0315 - accuracy: 0.9905 - val_loss: 0.0446 - val_accuracy: 0.9868\nEpoch 6/10\n1050/1050 [==============================] - 4s 4ms/step - loss: 0.0262 - accuracy: 0.9916 - val_loss: 0.0607 - val_accuracy: 0.9814\nEpoch 7/10\n1050/1050 [==============================] - 4s 4ms/step - loss: 0.0201 - accuracy: 0.9939 - val_loss: 0.0415 - val_accuracy: 0.9886\nEpoch 8/10\n1050/1050 [==============================] - 4s 4ms/step - loss: 0.0171 - accuracy: 0.9943 - val_loss: 0.0497 - val_accuracy: 0.9851\nEpoch 9/10\n1050/1050 [==============================] - 4s 4ms/step - loss: 0.0146 - accuracy: 0.9954 - val_loss: 0.0567 - val_accuracy: 0.9856\nEpoch 10/10\n1050/1050 [==============================] - 4s 4ms/step - loss: 0.0156 - accuracy: 0.9950 - val_loss: 0.0445 - val_accuracy: 0.9886\n",
          "output_type": "stream"
        }
      ]
    },
    {
      "cell_type": "code",
      "source": [
        "history_df = pd.DataFrame(history.history)\n",
        "history_df.head()"
      ],
      "metadata": {
        "execution": {
          "iopub.status.busy": "2023-12-23T16:50:56.714388Z",
          "iopub.execute_input": "2023-12-23T16:50:56.714689Z",
          "iopub.status.idle": "2023-12-23T16:50:56.726444Z",
          "shell.execute_reply.started": "2023-12-23T16:50:56.714662Z",
          "shell.execute_reply": "2023-12-23T16:50:56.725476Z"
        },
        "trusted": true,
        "id": "zF9oI8WPIVYZ",
        "outputId": "a1860636-bd8c-4924-9a11-195bc7e9d5b4"
      },
      "execution_count": null,
      "outputs": [
        {
          "execution_count": 17,
          "output_type": "execute_result",
          "data": {
            "text/plain": "       loss  accuracy  val_loss  val_accuracy\n0  0.287328  0.909673  0.112264      0.964167\n1  0.073950  0.976994  0.072666      0.978810\n2  0.052574  0.983929  0.052814      0.982500\n3  0.038982  0.988065  0.045353      0.986786\n4  0.031533  0.990476  0.044605      0.986786",
            "text/html": "<div>\n<style scoped>\n    .dataframe tbody tr th:only-of-type {\n        vertical-align: middle;\n    }\n\n    .dataframe tbody tr th {\n        vertical-align: top;\n    }\n\n    .dataframe thead th {\n        text-align: right;\n    }\n</style>\n<table border=\"1\" class=\"dataframe\">\n  <thead>\n    <tr style=\"text-align: right;\">\n      <th></th>\n      <th>loss</th>\n      <th>accuracy</th>\n      <th>val_loss</th>\n      <th>val_accuracy</th>\n    </tr>\n  </thead>\n  <tbody>\n    <tr>\n      <th>0</th>\n      <td>0.287328</td>\n      <td>0.909673</td>\n      <td>0.112264</td>\n      <td>0.964167</td>\n    </tr>\n    <tr>\n      <th>1</th>\n      <td>0.073950</td>\n      <td>0.976994</td>\n      <td>0.072666</td>\n      <td>0.978810</td>\n    </tr>\n    <tr>\n      <th>2</th>\n      <td>0.052574</td>\n      <td>0.983929</td>\n      <td>0.052814</td>\n      <td>0.982500</td>\n    </tr>\n    <tr>\n      <th>3</th>\n      <td>0.038982</td>\n      <td>0.988065</td>\n      <td>0.045353</td>\n      <td>0.986786</td>\n    </tr>\n    <tr>\n      <th>4</th>\n      <td>0.031533</td>\n      <td>0.990476</td>\n      <td>0.044605</td>\n      <td>0.986786</td>\n    </tr>\n  </tbody>\n</table>\n</div>"
          },
          "metadata": {}
        }
      ]
    },
    {
      "cell_type": "code",
      "source": [
        "# Example: Plotting training history\n",
        "import matplotlib.pyplot as plt\n",
        "\n",
        "# Plot training and validation accuracy\n",
        "plt.plot(history.history['accuracy'], label='Training Accuracy')\n",
        "plt.plot(history.history['val_accuracy'], label='Validation Accuracy')\n",
        "plt.xlabel('Epoch')\n",
        "plt.ylabel('Accuracy')\n",
        "plt.legend()\n",
        "plt.show()"
      ],
      "metadata": {
        "execution": {
          "iopub.status.busy": "2023-12-23T16:50:56.727366Z",
          "iopub.execute_input": "2023-12-23T16:50:56.727644Z",
          "iopub.status.idle": "2023-12-23T16:50:56.968197Z",
          "shell.execute_reply.started": "2023-12-23T16:50:56.727619Z",
          "shell.execute_reply": "2023-12-23T16:50:56.967354Z"
        },
        "trusted": true,
        "id": "87NpaXGkIVYa",
        "outputId": "c7528cfb-ff8c-4c88-eda5-4ce680210140"
      },
      "execution_count": null,
      "outputs": [
        {
          "output_type": "display_data",
          "data": {
            "text/plain": "<Figure size 640x480 with 1 Axes>",
            "image/png": "[encoded data removed]"
          },
          "metadata": {}
        }
      ]
    },
    {
      "cell_type": "code",
      "source": [
        "test_loss, test_accuracy = cnn_model.evaluate(x_test.reshape(-1, 28, 28, 1), y_test)\n",
        "print(f\"Test Accuracy: {test_accuracy}\")"
      ],
      "metadata": {
        "execution": {
          "iopub.status.busy": "2023-12-23T16:50:56.969187Z",
          "iopub.execute_input": "2023-12-23T16:50:56.969497Z",
          "iopub.status.idle": "2023-12-23T16:50:57.732059Z",
          "shell.execute_reply.started": "2023-12-23T16:50:56.969470Z",
          "shell.execute_reply": "2023-12-23T16:50:57.731071Z"
        },
        "trusted": true,
        "id": "37jwd70bIVYb",
        "outputId": "38826e05-a5f5-4862-b278-969390e432a0"
      },
      "execution_count": null,
      "outputs": [
        {
          "name": "stdout",
          "text": "263/263 [==============================] - 1s 2ms/step - loss: 0.0445 - accuracy: 0.9886\nTest Accuracy: 0.9885714054107666\n",
          "output_type": "stream"
        }
      ]
    },
    {
      "cell_type": "code",
      "source": [
        "y_predicted = cnn_model.predict(x_test.reshape(-1, 28, 28, 1))"
      ],
      "metadata": {
        "execution": {
          "iopub.status.busy": "2023-12-23T16:50:57.733387Z",
          "iopub.execute_input": "2023-12-23T16:50:57.733723Z",
          "iopub.status.idle": "2023-12-23T16:50:58.535904Z",
          "shell.execute_reply.started": "2023-12-23T16:50:57.733694Z",
          "shell.execute_reply": "2023-12-23T16:50:58.534628Z"
        },
        "trusted": true,
        "id": "QRcc1ZQGIVYc",
        "outputId": "59fa0c24-c649-4b33-9e3f-e5ca9d14f873"
      },
      "execution_count": null,
      "outputs": [
        {
          "name": "stdout",
          "text": "263/263 [==============================] - 1s 2ms/step\n",
          "output_type": "stream"
        }
      ]
    },
    {
      "cell_type": "code",
      "source": [
        "y_clsses = [np.argmax(i) for i in y_predicted]\n",
        "y_clsses[:20]"
      ],
      "metadata": {
        "execution": {
          "iopub.status.busy": "2023-12-23T16:50:58.537196Z",
          "iopub.execute_input": "2023-12-23T16:50:58.537554Z",
          "iopub.status.idle": "2023-12-23T16:50:58.592015Z",
          "shell.execute_reply.started": "2023-12-23T16:50:58.537524Z",
          "shell.execute_reply": "2023-12-23T16:50:58.590725Z"
        },
        "trusted": true,
        "id": "E7-cDMP3IVYd",
        "outputId": "b748914a-41c7-484a-ecc5-22ac7b6f1c36"
      },
      "execution_count": null,
      "outputs": [
        {
          "execution_count": 21,
          "output_type": "execute_result",
          "data": {
            "text/plain": "[8, 1, 9, 9, 8, 6, 2, 2, 7, 1, 6, 3, 1, 2, 7, 4, 3, 3, 6, 4]"
          },
          "metadata": {}
        }
      ]
    },
    {
      "cell_type": "code",
      "source": [
        "y_test[:20]"
      ],
      "metadata": {
        "execution": {
          "iopub.status.busy": "2023-12-23T16:50:58.593688Z",
          "iopub.execute_input": "2023-12-23T16:50:58.594451Z",
          "iopub.status.idle": "2023-12-23T16:50:58.602018Z",
          "shell.execute_reply.started": "2023-12-23T16:50:58.594408Z",
          "shell.execute_reply": "2023-12-23T16:50:58.600857Z"
        },
        "trusted": true,
        "id": "v7p18MgEIVYd",
        "outputId": "e8e72edc-3add-4816-8277-7b81c1d4d658"
      },
      "execution_count": null,
      "outputs": [
        {
          "execution_count": 22,
          "output_type": "execute_result",
          "data": {
            "text/plain": "array([8, 1, 9, 9, 8, 6, 2, 2, 7, 1, 6, 3, 1, 2, 7, 4, 3, 3, 6, 4])"
          },
          "metadata": {}
        }
      ]
    },
    {
      "cell_type": "code",
      "source": [
        "plt.figure(figsize=(8, 8))\n",
        "count = 0  # Initialize a count variable\n",
        "\n",
        "for i in range(x_test.shape[0]):\n",
        "    if y_clsses[i] != y_test[i]:\n",
        "        count += 1\n",
        "        if count > 20:\n",
        "            break  # Exit the loop if more than 100 subplots are created\n",
        "        plt.subplot(10, 10, count)\n",
        "        plt.xticks([])\n",
        "        plt.yticks([])\n",
        "        plt.imshow(x_test[i].reshape(28, 28), cmap=plt.cm.binary)\n",
        "        plt.xlabel(y_clsses[i])\n",
        "        plt.ylabel(y_test[i])\n",
        "\n",
        "plt.show()"
      ],
      "metadata": {
        "execution": {
          "iopub.status.busy": "2023-12-23T16:50:58.603508Z",
          "iopub.execute_input": "2023-12-23T16:50:58.603834Z",
          "iopub.status.idle": "2023-12-23T16:50:59.701029Z",
          "shell.execute_reply.started": "2023-12-23T16:50:58.603787Z",
          "shell.execute_reply": "2023-12-23T16:50:59.700078Z"
        },
        "trusted": true,
        "id": "oBuV4cYqIVYe",
        "outputId": "273fdae8-955c-4408-f6e0-a73fdd8a4042"
      },
      "execution_count": null,
      "outputs": [
        {
          "output_type": "display_data",
          "data": {
            "text/plain": "<Figure size 800x800 with 20 Axes>",
            "image/png": "[encoded data removed]"
          },
          "metadata": {}
        }
      ]
    },
    {
      "cell_type": "code",
      "source": [
        "y_predicted_x_test_df = cnn_model.predict(x_test_df.reshape(-1, 28, 28, 1))\n",
        "y_predicted_x_test_df"
      ],
      "metadata": {
        "execution": {
          "iopub.status.busy": "2023-12-23T16:51:00.302285Z",
          "iopub.execute_input": "2023-12-23T16:51:00.302633Z",
          "iopub.status.idle": "2023-12-23T16:51:02.646772Z",
          "shell.execute_reply.started": "2023-12-23T16:51:00.302605Z",
          "shell.execute_reply": "2023-12-23T16:51:02.645697Z"
        },
        "trusted": true,
        "id": "DtmY6ssPIVYf",
        "outputId": "e92f9bb8-4676-4011-a20e-418f96db6386"
      },
      "execution_count": null,
      "outputs": [
        {
          "name": "stdout",
          "text": "875/875 [==============================] - 1s 2ms/step\n",
          "output_type": "stream"
        },
        {
          "execution_count": 26,
          "output_type": "execute_result",
          "data": {
            "text/plain": "array([[2.7261650e-14, 1.9566407e-10, 1.0000000e+00, ..., 4.7919757e-10,\n        6.2055876e-09, 1.1085975e-12],\n       [9.9999976e-01, 2.3459661e-11, 3.9839971e-08, ..., 8.7479748e-09,\n        4.3778353e-08, 3.6972882e-08],\n       [2.5115847e-09, 3.8382669e-12, 1.9026187e-08, ..., 5.1123938e-10,\n        6.9831977e-08, 9.9999905e-01],\n       ...,\n       [2.8565641e-19, 1.4268998e-13, 4.3118192e-17, ..., 7.9755808e-17,\n        3.4482603e-14, 9.4339487e-14],\n       [1.2925952e-08, 2.4054326e-13, 1.1121798e-09, ..., 1.9357749e-09,\n        3.6638287e-08, 9.9998605e-01],\n       [1.1318817e-16, 1.4208933e-11, 9.9999964e-01, ..., 1.4803329e-11,\n        3.3786165e-07, 2.1079850e-12]], dtype=float32)"
          },
          "metadata": {}
        }
      ]
    },
    {
      "cell_type": "code",
      "source": [
        "y_classes_x_test_df = [np.argmax(i) for i in y_predicted_x_test_df]\n",
        "y_classes_x_test_df[:20]"
      ],
      "metadata": {
        "execution": {
          "iopub.status.busy": "2023-12-23T16:51:02.648088Z",
          "iopub.execute_input": "2023-12-23T16:51:02.648458Z",
          "iopub.status.idle": "2023-12-23T16:51:02.764117Z",
          "shell.execute_reply.started": "2023-12-23T16:51:02.648424Z",
          "shell.execute_reply": "2023-12-23T16:51:02.763048Z"
        },
        "trusted": true,
        "id": "TMjXPArGIVYg",
        "outputId": "3532fd4a-d9d1-4484-e4c9-46ec57a72524"
      },
      "execution_count": null,
      "outputs": [
        {
          "execution_count": 27,
          "output_type": "execute_result",
          "data": {
            "text/plain": "[2, 0, 9, 9, 3, 7, 0, 3, 0, 3, 5, 7, 4, 0, 4, 3, 3, 1, 9, 0]"
          },
          "metadata": {}
        }
      ]
    }
  ]
}